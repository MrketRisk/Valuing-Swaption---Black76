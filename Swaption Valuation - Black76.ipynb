{
 "cells": [
  {
   "cell_type": "markdown",
   "id": "becf2441",
   "metadata": {},
   "source": [
    "### Swaption Valuation using Black76\n",
    "We will price a Swaption using Black76 model.\\\n",
    "Let us consider that there is a 1x2 swaption. The swap has semi annual frequency. Assume a notional of $1M.\\\n",
    "At Time T0, the yield curve is as below:\n",
    "\n",
    "Tenor 0.5 = 5.00% \\\n",
    "Tenor 1.0 = 6.00% \\\n",
    "Tenor 1.5 = 6.75% \\\n",
    "Tenor 2.0 = 7.25% \\\n",
    "Tenor 2.5 = 7.50% \\\n",
    "Tenor 3.0 = 7.60% \n",
    "\n",
    "Calculate the Swaption price using Black76 Model assuming a constant vol of 2% and a fixed rate of 8%"
   ]
  },
  {
   "cell_type": "code",
   "execution_count": 115,
   "id": "0f86a3f3",
   "metadata": {},
   "outputs": [],
   "source": [
    "import numpy as np\n",
    "import pandas as pd\n",
    "from scipy.stats import norm"
   ]
  },
  {
   "cell_type": "code",
   "execution_count": 137,
   "id": "46e063c1",
   "metadata": {},
   "outputs": [],
   "source": [
    "def swapRateCalc(YieldMatrix,Alpha,Beta,Tau):\n",
    "    #Compute the Swap rate at time t=0 as (P@Alpha - P@Beta)/(Tau * Sum of P from Tenor(start payment to end payment))\n",
    "    P0Alpha = YieldMatrix.loc[YieldMatrix['Tenor']==Alpha,'P'].squeeze()\n",
    "    P0Beta = YieldMatrix.loc[YieldMatrix['Tenor']==Beta,'P'].squeeze()\n",
    "    startPayment = YieldMatrix['Tenor'].tolist().index(Alpha+Tau)\n",
    "    EndPayment = YieldMatrix['Tenor'].tolist().index(Beta)+1\n",
    "    SumP0 = np.sum(YieldMatrix['P'][startPayment:EndPayment])\n",
    "    S0_AlphaBeta = (P0Alpha - P0Beta)/(Tau * SumP0)\n",
    "    return(S0_AlphaBeta)"
   ]
  },
  {
   "cell_type": "code",
   "execution_count": 141,
   "id": "fb78fd88",
   "metadata": {},
   "outputs": [],
   "source": [
    "def swapValuation(YieldMatrix,Alpha,Beta,Tau,N,S0_AlphaBeta,k):\n",
    "    SwapValue_TAlpha = 0\n",
    "    YieldMatrix['PAlpha'] = np.exp(-YieldMatrix['Yield'] * (YieldMatrix['Tenor']-Alpha)) #Discounting to Time at Alpha\n",
    "    YieldMatrix['PAlpha'][YieldMatrix['Tenor']<Alpha] = 0 #Value of Bond with Tenor less than Alpha is 0\n",
    "    \n",
    "    startPayment = YieldMatrix['Tenor'].tolist().index(Alpha+Tau)\n",
    "    EndPayment = YieldMatrix['Tenor'].tolist().index(Beta)+1\n",
    "    \n",
    "    #Value of a swap is given as (swapRate - fixedRate) * Sum of Present Value of payments\n",
    "    SumPAlpha = np.sum(YieldMatrix['PAlpha'][startPayment:EndPayment]) * YieldMatrix['P'][YieldMatrix['Tenor']==Alpha]\n",
    "    SwapValue_TAlpha = (S0_AlphaBeta - k) * SumPAlpha * N * Tau\n",
    "    return(SwapValue_TAlpha)\n",
    "    "
   ]
  },
  {
   "cell_type": "code",
   "execution_count": 142,
   "id": "bb30e40e",
   "metadata": {},
   "outputs": [],
   "source": [
    "def Bl76_SwaptionValuation(YieldMatrix,Alpha,Beta,Tau,N,S0_AlphaBeta,k,Vol):\n",
    "    SwaptionValue = 0\n",
    "    YieldMatrix['PAlpha'] = np.exp(-YieldMatrix['Yield'] * (YieldMatrix['Tenor']-Alpha)) #Discounting to Time at Alpha\n",
    "    YieldMatrix['PAlpha'][YieldMatrix['Tenor']<Alpha] = 0 #Value of Bond with Tenor less than Alpha is 0\n",
    "    \n",
    "    startPayment = YieldMatrix['Tenor'].tolist().index(Alpha+Tau)\n",
    "    EndPayment = YieldMatrix['Tenor'].tolist().index(Beta)+1\n",
    "    \n",
    "    d1 = (np.log(S0_AlphaBeta/k) + (0.5 * Vol**2) * Alpha)/(Vol * np.sqrt(Alpha))\n",
    "    d2 = d1 - Vol * np.sqrt(Alpha)\n",
    "    #Value of Swaption is given by Sum of Present Value of payments * max(swapRate - k,0)\n",
    "    SumPAlpha = np.sum(YieldMatrix['PAlpha'][startPayment:EndPayment]) * YieldMatrix['P'][YieldMatrix['Tenor']==Alpha]\n",
    "    SwaptionValue = SumPAlpha * N * Tau * (S0_AlphaBeta * norm.cdf(d1) - k * norm.cdf(d2))\n",
    "    return(SwaptionValue)\n",
    "    "
   ]
  },
  {
   "cell_type": "code",
   "execution_count": 144,
   "id": "0ef2e3c6",
   "metadata": {},
   "outputs": [
    {
     "name": "stdout",
     "output_type": "stream",
     "text": [
      "The Swap Rate is : 8.5825 %\n",
      "The value of the swaption is : 10010.5181\n"
     ]
    }
   ],
   "source": [
    "Alpha = 1\n",
    "Beta = 3\n",
    "Vol = 0.02\n",
    "Tau = 0.5 #Semiannual frequency\n",
    "N = 1000000 #$1 million Notional\n",
    "f = (Beta-Alpha)/Tau #Number of payments\n",
    "k = 0.08 #Assume Fixed Rate is 8%\n",
    "\n",
    "YieldMatrix = pd.DataFrame([[0.5,0.05],[1.0,0.06],[1.5,0.0675],[2.0,0.0725],[2.5,0.075],[3.0,0.076]])\n",
    "YieldMatrix = YieldMatrix.rename(columns = {0:'Tenor',1:'Yield'})\n",
    "\n",
    "#Price of a Zero Coupon Bond at time t=0 for all the tenors\n",
    "YieldMatrix['P'] = np.exp(-YieldMatrix['Yield'] * YieldMatrix['Tenor'])\n",
    "\n",
    "#Swap Rate\n",
    "S0_AlphaBeta = swapRateCalc(YieldMatrix,Alpha,Beta,Tau)\n",
    "print(\"The Swap Rate is :\" , np.round(S0_AlphaBeta * 100,4),\"%\")\n",
    "\n",
    "#Swap Valuation\n",
    "#Valuation of swaption does not require the valuation of the swap as a parameter\n",
    "#This is just a convenient segway to compute the value of the swap as well\n",
    "SwapValue_TAlpha = swapValuation(YieldMatrix,Alpha,Beta,Tau,N,S0_AlphaBeta,k)\n",
    "\n",
    "#Swaption Valuation\n",
    "SwaptionValue = Bl76_SwaptionValuation(YieldMatrix,Alpha,Beta,Tau,N,S0_AlphaBeta,k,Vol)\n",
    "print(\"The value of the swaption is :\" , np.round(SwaptionValue,4).squeeze())\n"
   ]
  },
  {
   "cell_type": "code",
   "execution_count": null,
   "id": "c323bc31",
   "metadata": {},
   "outputs": [],
   "source": []
  }
 ],
 "metadata": {
  "kernelspec": {
   "display_name": "Python 3 (ipykernel)",
   "language": "python",
   "name": "python3"
  },
  "language_info": {
   "codemirror_mode": {
    "name": "ipython",
    "version": 3
   },
   "file_extension": ".py",
   "mimetype": "text/x-python",
   "name": "python",
   "nbconvert_exporter": "python",
   "pygments_lexer": "ipython3",
   "version": "3.10.9"
  }
 },
 "nbformat": 4,
 "nbformat_minor": 5
}
